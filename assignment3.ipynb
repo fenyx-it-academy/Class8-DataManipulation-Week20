{
 "cells": [
  {
   "attachments": {},
   "cell_type": "markdown",
   "metadata": {},
   "source": [
    "## Data Manipulation module\n",
    "### Homework assignment 3\n",
    "\n",
    "Welcome to the first homework assignment of the data manipulation module. In this assignment you will be working with advanced manipulations for Pandas DataFrames. \n",
    "\n",
    "### Instructions\n",
    "Read the exercises carefully and implement the requested functionality. Add your code in the cells provided with `YOUR CODE HERE`. You can add cells if you need to.\n",
    "\n",
    "### Hand-in\n",
    "To hand in your assignment, fork this notebook and commit your changes, then make a pull request to the original repository. The deadline for handing in the assignment is **Wednesday 17-05 23:59**."
   ]
  },
  {
   "cell_type": "code",
   "execution_count": 5,
   "metadata": {},
   "outputs": [],
   "source": [
    "import pandas as pd\n",
    "import numpy as np"
   ]
  },
  {
   "attachments": {},
   "cell_type": "markdown",
   "metadata": {},
   "source": [
    "Download the `country_vaccinations.csv` file from the following [kaggle page](https://www.kaggle.com/datasets/gpreda/covid-world-vaccination-progress). We load it in in the following cell, make sure to set the correct path. The rest of the assignment you will be using this dataframe!"
   ]
  },
  {
   "cell_type": "code",
   "execution_count": 14,
   "metadata": {},
   "outputs": [],
   "source": [
    "df = pd.read_csv(\"country_vaccinations.csv\")"
   ]
  },
  {
   "attachments": {},
   "cell_type": "markdown",
   "metadata": {},
   "source": [
    "1. Print some statistics of the dataframe, like the column names and the stats per column, to get a feel for the data."
   ]
  },
  {
   "cell_type": "code",
   "execution_count": 7,
   "metadata": {},
   "outputs": [
    {
     "name": "stdout",
     "output_type": "stream",
     "text": [
      "Index(['country', 'iso_code', 'date', 'total_vaccinations',\n",
      "       'people_vaccinated', 'people_fully_vaccinated',\n",
      "       'daily_vaccinations_raw', 'daily_vaccinations',\n",
      "       'total_vaccinations_per_hundred', 'people_vaccinated_per_hundred',\n",
      "       'people_fully_vaccinated_per_hundred', 'daily_vaccinations_per_million',\n",
      "       'vaccines', 'source_name', 'source_website'],\n",
      "      dtype='object')\n",
      "       total_vaccinations  people_vaccinated  people_fully_vaccinated   \n",
      "count        4.360700e+04       4.129400e+04             3.880200e+04  \\\n",
      "mean         4.592964e+07       1.770508e+07             1.413830e+07   \n",
      "std          2.246004e+08       7.078731e+07             5.713920e+07   \n",
      "min          0.000000e+00       0.000000e+00             1.000000e+00   \n",
      "25%          5.264100e+05       3.494642e+05             2.439622e+05   \n",
      "50%          3.590096e+06       2.187310e+06             1.722140e+06   \n",
      "75%          1.701230e+07       9.152520e+06             7.559870e+06   \n",
      "max          3.263129e+09       1.275541e+09             1.240777e+09   \n",
      "\n",
      "       daily_vaccinations_raw  daily_vaccinations   \n",
      "count            3.536200e+04        8.621300e+04  \\\n",
      "mean             2.705996e+05        1.313055e+05   \n",
      "std              1.212427e+06        7.682388e+05   \n",
      "min              0.000000e+00        0.000000e+00   \n",
      "25%              4.668000e+03        9.000000e+02   \n",
      "50%              2.530900e+04        7.343000e+03   \n",
      "75%              1.234925e+05        4.409800e+04   \n",
      "max              2.474100e+07        2.242429e+07   \n",
      "\n",
      "       total_vaccinations_per_hundred  people_vaccinated_per_hundred   \n",
      "count                    43607.000000                   41294.000000  \\\n",
      "mean                        80.188543                      40.927317   \n",
      "std                         67.913577                      29.290759   \n",
      "min                          0.000000                       0.000000   \n",
      "25%                         16.050000                      11.370000   \n",
      "50%                         67.520000                      41.435000   \n",
      "75%                        132.735000                      67.910000   \n",
      "max                        345.370000                     124.760000   \n",
      "\n",
      "       people_fully_vaccinated_per_hundred  daily_vaccinations_per_million  \n",
      "count                         38802.000000                    86213.000000  \n",
      "mean                             35.523243                     3257.049157  \n",
      "std                              28.376252                     3934.312440  \n",
      "min                               0.000000                        0.000000  \n",
      "25%                               7.020000                      636.000000  \n",
      "50%                              31.750000                     2050.000000  \n",
      "75%                              62.080000                     4682.000000  \n",
      "max                             122.370000                   117497.000000  \n"
     ]
    }
   ],
   "source": [
    "print(df.columns)\n",
    "print(df.describe())\n",
    "\n"
   ]
  },
  {
   "attachments": {},
   "cell_type": "markdown",
   "metadata": {},
   "source": [
    "2. Pivot the dataframe to have the date as the index. The columns should be the country names. The values should be the daily vaccinations per million."
   ]
  },
  {
   "cell_type": "code",
   "execution_count": 8,
   "metadata": {},
   "outputs": [
    {
     "name": "stdout",
     "output_type": "stream",
     "text": [
      "country     Afghanistan  Albania  Algeria  Andorra  Angola  Anguilla   \n",
      "date                                                                   \n",
      "2020-12-02          NaN      NaN      NaN      NaN     NaN       NaN  \\\n",
      "2020-12-03          NaN      NaN      NaN      NaN     NaN       NaN   \n",
      "2020-12-04          NaN      NaN      NaN      NaN     NaN       NaN   \n",
      "2020-12-05          NaN      NaN      NaN      NaN     NaN       NaN   \n",
      "2020-12-06          NaN      NaN      NaN      NaN     NaN       NaN   \n",
      "...                 ...      ...      ...      ...     ...       ...   \n",
      "2022-03-25          NaN      NaN      NaN      NaN  1007.0     727.0   \n",
      "2022-03-26          NaN      NaN      NaN      NaN     NaN       NaN   \n",
      "2022-03-27          NaN      NaN      NaN      NaN     NaN       NaN   \n",
      "2022-03-28          NaN      NaN      NaN      NaN     NaN       NaN   \n",
      "2022-03-29          NaN      NaN      NaN      NaN     NaN       NaN   \n",
      "\n",
      "country     Antigua and Barbuda  Argentina  Armenia  Aruba  ...  Uruguay   \n",
      "date                                                        ...            \n",
      "2020-12-02                  NaN        NaN      NaN    NaN  ...      NaN  \\\n",
      "2020-12-03                  NaN        NaN      NaN    NaN  ...      NaN   \n",
      "2020-12-04                  NaN        NaN      NaN    NaN  ...      NaN   \n",
      "2020-12-05                  NaN        NaN      NaN    NaN  ...      NaN   \n",
      "2020-12-06                  NaN        NaN      NaN    NaN  ...      NaN   \n",
      "...                         ...        ...      ...    ...  ...      ...   \n",
      "2022-03-25                  NaN     1712.0      NaN  653.0  ...   3425.0   \n",
      "2022-03-26                  NaN     1653.0      NaN  625.0  ...   3418.0   \n",
      "2022-03-27                  NaN     1620.0      NaN  672.0  ...   3417.0   \n",
      "2022-03-28                  NaN     1521.0      NaN  709.0  ...   2990.0   \n",
      "2022-03-29                  NaN     1200.0      NaN  718.0  ...   2897.0   \n",
      "\n",
      "country     Uzbekistan  Vanuatu  Venezuela  Vietnam  Wales  Wallis and Futuna   \n",
      "date                                                                            \n",
      "2020-12-02         NaN      NaN        NaN      NaN    NaN                NaN  \\\n",
      "2020-12-03         NaN      NaN        NaN      NaN    NaN                NaN   \n",
      "2020-12-04         NaN      NaN        NaN      NaN    NaN                NaN   \n",
      "2020-12-05         NaN      NaN        NaN      NaN    NaN                NaN   \n",
      "2020-12-06         NaN      NaN        NaN      NaN    NaN                NaN   \n",
      "...                ...      ...        ...      ...    ...                ...   \n",
      "2022-03-25         NaN      NaN        0.0      NaN  526.0             1172.0   \n",
      "2022-03-26         NaN      NaN        NaN      NaN  479.0             1352.0   \n",
      "2022-03-27         NaN      NaN        NaN      NaN  475.0             1532.0   \n",
      "2022-03-28         NaN      NaN        NaN      NaN  508.0             1713.0   \n",
      "2022-03-29         NaN      NaN        NaN      NaN    NaN                NaN   \n",
      "\n",
      "country     Yemen  Zambia  Zimbabwe  \n",
      "date                                 \n",
      "2020-12-02    NaN     NaN       NaN  \n",
      "2020-12-03    NaN     NaN       NaN  \n",
      "2020-12-04    NaN     NaN       NaN  \n",
      "2020-12-05    NaN     NaN       NaN  \n",
      "2020-12-06    NaN     NaN       NaN  \n",
      "...           ...     ...       ...  \n",
      "2022-03-25    NaN   900.0    4610.0  \n",
      "2022-03-26    NaN   760.0    5528.0  \n",
      "2022-03-27    NaN   765.0    6005.0  \n",
      "2022-03-28    NaN   770.0    6667.0  \n",
      "2022-03-29    NaN   721.0    6874.0  \n",
      "\n",
      "[483 rows x 223 columns]\n"
     ]
    }
   ],
   "source": [
    "\n",
    "pivot = df.pivot(index='date', columns='country', values='daily_vaccinations_per_million')\n",
    "\n",
    "print(pivot)"
   ]
  },
  {
   "attachments": {},
   "cell_type": "markdown",
   "metadata": {},
   "source": [
    "3. Convert the date index to datetime format."
   ]
  },
  {
   "cell_type": "code",
   "execution_count": 9,
   "metadata": {},
   "outputs": [
    {
     "name": "stdout",
     "output_type": "stream",
     "text": [
      "DatetimeIndex(['2020-12-02', '2020-12-03', '2020-12-04', '2020-12-05',\n",
      "               '2020-12-06', '2020-12-07', '2020-12-08', '2020-12-09',\n",
      "               '2020-12-10', '2020-12-11',\n",
      "               ...\n",
      "               '2022-03-20', '2022-03-21', '2022-03-22', '2022-03-23',\n",
      "               '2022-03-24', '2022-03-25', '2022-03-26', '2022-03-27',\n",
      "               '2022-03-28', '2022-03-29'],\n",
      "              dtype='datetime64[ns]', name='date', length=483, freq=None)\n"
     ]
    }
   ],
   "source": [
    "\n",
    "pivot.index = pd.to_datetime(pivot.index)\n",
    "\n",
    "print(pivot.index)"
   ]
  },
  {
   "attachments": {},
   "cell_type": "markdown",
   "metadata": {},
   "source": [
    "4. Create a new column with the month of the date. You might have to do some googling about the datetime format to find out how to do this."
   ]
  },
  {
   "cell_type": "code",
   "execution_count": 10,
   "metadata": {},
   "outputs": [
    {
     "name": "stdout",
     "output_type": "stream",
     "text": [
      "date\n",
      "2020-12-02    12\n",
      "2020-12-03    12\n",
      "2020-12-04    12\n",
      "2020-12-05    12\n",
      "2020-12-06    12\n",
      "              ..\n",
      "2022-03-25     3\n",
      "2022-03-26     3\n",
      "2022-03-27     3\n",
      "2022-03-28     3\n",
      "2022-03-29     3\n",
      "Name: month, Length: 483, dtype: int32\n"
     ]
    }
   ],
   "source": [
    "pivot['month'] = pivot.index.month\n",
    "\n",
    "\n",
    "print(pivot['month'])"
   ]
  },
  {
   "attachments": {},
   "cell_type": "markdown",
   "metadata": {},
   "source": [
    "5. Per country calculate the average daily vaccinations per million for each month. The result should be a dataframe with the country names as the index and the months as the columns. The values should be the average daily vaccinations per million. You might need to stack or pivot the table to obtain the correct format."
   ]
  },
  {
   "cell_type": "code",
   "execution_count": 11,
   "metadata": {},
   "outputs": [
    {
     "name": "stdout",
     "output_type": "stream",
     "text": [
      "month                       1            2            3            4    \n",
      "country                                                                 \n",
      "Afghanistan         323.806452   305.852941   153.886792   183.700000  \\\n",
      "Albania            1357.423077  1171.250000   823.363636  3933.466667   \n",
      "Algeria             394.878788   233.375000   410.100000   501.000000   \n",
      "Andorra            7731.216216  2848.053571  2650.636364  7494.566667   \n",
      "Angola             2922.612903  1941.035714   619.854545   364.600000   \n",
      "...                        ...          ...          ...          ...   \n",
      "Wales              3911.384615  4119.553571  4788.288136  7441.800000   \n",
      "Wallis and Futuna   808.387097  1262.000000  5894.333333  8512.100000   \n",
      "Yemen                84.903226    48.178571    45.875000          NaN   \n",
      "Zambia             1183.032258   848.785714  1033.103448    70.562500   \n",
      "Zimbabwe            802.645161   470.473684  1053.333333   799.066667   \n",
      "\n",
      "month                       5             6            7            8    \n",
      "country                                                                  \n",
      "Afghanistan         231.322581    203.233333   273.096774   479.161290  \\\n",
      "Albania            3739.580645   2095.700000  2561.225806  3007.419355   \n",
      "Algeria             501.000000    501.000000   501.000000  1857.870968   \n",
      "Andorra            2790.709677  13875.533333  7402.838710  4367.354839   \n",
      "Angola              366.870968    581.300000   166.387097   286.548387   \n",
      "...                        ...           ...          ...          ...   \n",
      "Wales              7108.419355   6978.800000  4488.032258  2060.516129   \n",
      "Wallis and Futuna  8330.548387   1766.733333  1104.935484  1349.161290   \n",
      "Yemen               143.818182    181.400000    45.838710     8.290323   \n",
      "Zambia              214.161290      9.433333   415.645161   297.129032   \n",
      "Zimbabwe           1147.806452    647.633333  2225.967742  3847.612903   \n",
      "\n",
      "month                       9            10           11           12  \n",
      "country                                                                \n",
      "Afghanistan         471.066667   862.516129   687.266667   385.741935  \n",
      "Albania            3239.166667  2005.806452  2264.466667  2537.161290  \n",
      "Algeria            2931.666667   745.741935   727.466667   414.419355  \n",
      "Andorra            2795.633333   945.645161   713.133333  5460.000000  \n",
      "Angola             1257.766667  2917.903226  2984.266667  2040.774194  \n",
      "...                        ...          ...          ...          ...  \n",
      "Wales               703.900000  5148.677419  5047.933333  8355.677419  \n",
      "Wallis and Futuna  2004.133333  3009.451613  1415.233333   613.580645  \n",
      "Yemen                81.500000   147.806452    69.400000    63.000000  \n",
      "Zambia              238.166667   342.741935   290.533333   998.483871  \n",
      "Zimbabwe           2535.466667  1313.322581  1500.933333  1452.225806  \n",
      "\n",
      "[223 rows x 12 columns]\n"
     ]
    }
   ],
   "source": [
    "\n",
    "monthly_avg = pivot.groupby(['month']).mean()\n",
    "\n",
    "\n",
    "monthly_avg = monthly_avg.T\n",
    "\n",
    "\n",
    "print(monthly_avg)"
   ]
  },
  {
   "attachments": {},
   "cell_type": "markdown",
   "metadata": {},
   "source": [
    "6. Now we will try to obtain the same result, but in one go from the original DataFrame. To do this, take the original dataframe and add the month column as before. Then use Pandas pivot_table method with the correct aggregation function to obtain the same result."
   ]
  },
  {
   "cell_type": "code",
   "execution_count": 17,
   "metadata": {},
   "outputs": [
    {
     "name": "stdout",
     "output_type": "stream",
     "text": [
      "month                       1            2            3            4    \n",
      "country                                                                 \n",
      "Afghanistan         323.806452   305.852941   153.886792   183.700000  \\\n",
      "Albania            1357.423077  1171.250000   823.363636  3933.466667   \n",
      "Algeria             394.878788   233.375000   410.100000   501.000000   \n",
      "Andorra            7731.216216  2848.053571  2650.636364  7494.566667   \n",
      "Angola             2922.612903  1941.035714   619.854545   364.600000   \n",
      "...                        ...          ...          ...          ...   \n",
      "Wales              3911.384615  4119.553571  4788.288136  7441.800000   \n",
      "Wallis and Futuna   808.387097  1262.000000  5894.333333  8512.100000   \n",
      "Yemen                84.903226    48.178571    45.875000          NaN   \n",
      "Zambia             1183.032258   848.785714  1033.103448    70.562500   \n",
      "Zimbabwe            802.645161   470.473684  1053.333333   799.066667   \n",
      "\n",
      "month                       5             6            7            8    \n",
      "country                                                                  \n",
      "Afghanistan         231.322581    203.233333   273.096774   479.161290  \\\n",
      "Albania            3739.580645   2095.700000  2561.225806  3007.419355   \n",
      "Algeria             501.000000    501.000000   501.000000  1857.870968   \n",
      "Andorra            2790.709677  13875.533333  7402.838710  4367.354839   \n",
      "Angola              366.870968    581.300000   166.387097   286.548387   \n",
      "...                        ...           ...          ...          ...   \n",
      "Wales              7108.419355   6978.800000  4488.032258  2060.516129   \n",
      "Wallis and Futuna  8330.548387   1766.733333  1104.935484  1349.161290   \n",
      "Yemen               143.818182    181.400000    45.838710     8.290323   \n",
      "Zambia              214.161290      9.433333   415.645161   297.129032   \n",
      "Zimbabwe           1147.806452    647.633333  2225.967742  3847.612903   \n",
      "\n",
      "month                       9            10           11           12  \n",
      "country                                                                \n",
      "Afghanistan         471.066667   862.516129   687.266667   385.741935  \n",
      "Albania            3239.166667  2005.806452  2264.466667  2537.161290  \n",
      "Algeria            2931.666667   745.741935   727.466667   414.419355  \n",
      "Andorra            2795.633333   945.645161   713.133333  5460.000000  \n",
      "Angola             1257.766667  2917.903226  2984.266667  2040.774194  \n",
      "...                        ...          ...          ...          ...  \n",
      "Wales               703.900000  5148.677419  5047.933333  8355.677419  \n",
      "Wallis and Futuna  2004.133333  3009.451613  1415.233333   613.580645  \n",
      "Yemen                81.500000   147.806452    69.400000    63.000000  \n",
      "Zambia              238.166667   342.741935   290.533333   998.483871  \n",
      "Zimbabwe           2535.466667  1313.322581  1500.933333  1452.225806  \n",
      "\n",
      "[223 rows x 12 columns]\n"
     ]
    }
   ],
   "source": [
    "df['month'] = pd.to_datetime(df['date']).dt.month\n",
    "\n",
    "\n",
    "monthly_avg = pd.pivot_table(df, values='daily_vaccinations_per_million', index='country', columns='month', aggfunc='mean')\n",
    "\n",
    "print(monthly_avg)"
   ]
  },
  {
   "attachments": {},
   "cell_type": "markdown",
   "metadata": {},
   "source": []
  },
  {
   "attachments": {},
   "cell_type": "markdown",
   "metadata": {},
   "source": [
    "7. Now take the dataframe you obtained in exercise 4. Rerun some cells if you need or copy paste some code. We want to get back the original format with a ranged index (0, 1, 2, ...) and a column with country names, a column with the date and a column with the month. Use a combination of stacking, unstacking and reseting the index to obtain this result. "
   ]
  },
  {
   "cell_type": "code",
   "execution_count": 18,
   "metadata": {},
   "outputs": [],
   "source": [
    "monthly_avg = monthly_avg.unstack()\n",
    "\n",
    "monthly_avg = monthly_avg.reset_index()\n",
    "\n",
    "monthly_avg.columns = ['date', 'country', 'daily_vaccinations_per_million']\n",
    "\n",
    "monthly_avg['month'] = pd.to_datetime(monthly_avg['date']).dt.month\n",
    "\n",
    "monthly_avg = monthly_avg[['date', 'country', 'month', 'daily_vaccinations_per_million']]\n",
    "\n"
   ]
  },
  {
   "attachments": {},
   "cell_type": "markdown",
   "metadata": {},
   "source": [
    "8. Obtain the same result as in exercise 7, but now use the melt method to obtain the result."
   ]
  },
  {
   "cell_type": "code",
   "execution_count": 29,
   "metadata": {},
   "outputs": [
    {
     "name": "stdout",
     "output_type": "stream",
     "text": [
      "      date            country  month        value\n",
      "0        1        Afghanistan      1   323.806452\n",
      "1        1            Albania      1  1357.423077\n",
      "2        1            Algeria      1   394.878788\n",
      "3        1            Andorra      1  7731.216216\n",
      "4        1             Angola      1  2922.612903\n",
      "...    ...                ...    ...          ...\n",
      "2671    12              Wales      1  8355.677419\n",
      "2672    12  Wallis and Futuna      1   613.580645\n",
      "2673    12              Yemen      1    63.000000\n",
      "2674    12             Zambia      1   998.483871\n",
      "2675    12           Zimbabwe      1  1452.225806\n",
      "\n",
      "[2676 rows x 4 columns]\n"
     ]
    }
   ],
   "source": [
    "melted_df = monthly_avg.melt(id_vars=['date', 'country', 'month'], value_vars=['daily_vaccinations_per_million'], var_name='variable')\n",
    "melted_df = melted_df.drop(columns='variable')\n",
    "\n",
    "\n",
    "print (melted_df)"
   ]
  }
 ],
 "metadata": {
  "kernelspec": {
   "display_name": "Python 3",
   "language": "python",
   "name": "python3"
  },
  "language_info": {
   "codemirror_mode": {
    "name": "ipython",
    "version": 3
   },
   "file_extension": ".py",
   "mimetype": "text/x-python",
   "name": "python",
   "nbconvert_exporter": "python",
   "pygments_lexer": "ipython3",
   "version": "3.10.6"
  },
  "orig_nbformat": 4,
  "vscode": {
   "interpreter": {
    "hash": "ca3ed784184f1b3bb7c3539bfb45e71710cd27667424f92c2d5bb4df9c107c23"
   }
  }
 },
 "nbformat": 4,
 "nbformat_minor": 2
}
