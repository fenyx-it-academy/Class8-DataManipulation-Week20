{
 "cells": [
  {
   "attachments": {},
   "cell_type": "markdown",
   "metadata": {},
   "source": [
    "## Data Manipulation module\n",
    "### Homework assignment 3\n",
    "\n",
    "Welcome to the first homework assignment of the data manipulation module. In this assignment you will be working with advanced manipulations for Pandas DataFrames. \n",
    "\n",
    "### Instructions\n",
    "Read the exercises carefully and implement the requested functionality. Add your code in the cells provided with `YOUR CODE HERE`. You can add cells if you need to.\n",
    "\n",
    "### Hand-in\n",
    "To hand in your assignment, fork this notebook and commit your changes, then make a pull request to the original repository. The deadline for handing in the assignment is **Wednesday 17-05 23:59**."
   ]
  },
  {
   "cell_type": "code",
   "execution_count": 2,
   "metadata": {},
   "outputs": [],
   "source": [
    "import pandas as pd\n",
    "import numpy as np"
   ]
  },
  {
   "attachments": {},
   "cell_type": "markdown",
   "metadata": {},
   "source": [
    "Download the `country_vaccinations.csv` file from the following [kaggle page](https://www.kaggle.com/datasets/gpreda/covid-world-vaccination-progress). We load it in in the following cell, make sure to set the correct path. The rest of the assignment you will be using this dataframe!"
   ]
  },
  {
   "cell_type": "code",
   "execution_count": 3,
   "metadata": {},
   "outputs": [],
   "source": [
    "df = pd.read_csv(\"country_vaccinations.csv\")"
   ]
  },
  {
   "attachments": {},
   "cell_type": "markdown",
   "metadata": {},
   "source": [
    "1. Print some statistics of the dataframe, like the column names and the stats per column, to get a feel for the data."
   ]
  },
  {
   "cell_type": "code",
   "execution_count": 17,
   "metadata": {},
   "outputs": [
    {
     "name": "stdout",
     "output_type": "stream",
     "text": [
      "<class 'pandas.core.frame.DataFrame'>\n",
      "RangeIndex: 86512 entries, 0 to 86511\n",
      "Data columns (total 15 columns):\n",
      " #   Column                               Non-Null Count  Dtype  \n",
      "---  ------                               --------------  -----  \n",
      " 0   country                              86512 non-null  object \n",
      " 1   iso_code                             86512 non-null  object \n",
      " 2   date                                 86512 non-null  object \n",
      " 3   total_vaccinations                   43607 non-null  float64\n",
      " 4   people_vaccinated                    41294 non-null  float64\n",
      " 5   people_fully_vaccinated              38802 non-null  float64\n",
      " 6   daily_vaccinations_raw               35362 non-null  float64\n",
      " 7   daily_vaccinations                   86213 non-null  float64\n",
      " 8   total_vaccinations_per_hundred       43607 non-null  float64\n",
      " 9   people_vaccinated_per_hundred        41294 non-null  float64\n",
      " 10  people_fully_vaccinated_per_hundred  38802 non-null  float64\n",
      " 11  daily_vaccinations_per_million       86213 non-null  float64\n",
      " 12  vaccines                             86512 non-null  object \n",
      " 13  source_name                          86512 non-null  object \n",
      " 14  source_website                       86512 non-null  object \n",
      "dtypes: float64(9), object(6)\n",
      "memory usage: 9.9+ MB\n"
     ]
    }
   ],
   "source": [
    "\n",
    "df.info()\n"
   ]
  },
  {
   "attachments": {},
   "cell_type": "markdown",
   "metadata": {},
   "source": [
    "2. Pivot the dataframe to have the date as the index. The columns should be the country names. The values should be the daily vaccinations per million."
   ]
  },
  {
   "cell_type": "code",
   "execution_count": 7,
   "metadata": {},
   "outputs": [
    {
     "name": "stdout",
     "output_type": "stream",
     "text": [
      "country     Afghanistan  Albania  Algeria  Andorra  Angola  Anguilla   \n",
      "date                                                                   \n",
      "2020-12-02          NaN      NaN      NaN      NaN     NaN       NaN  \\\n",
      "2020-12-03          NaN      NaN      NaN      NaN     NaN       NaN   \n",
      "2020-12-04          NaN      NaN      NaN      NaN     NaN       NaN   \n",
      "2020-12-05          NaN      NaN      NaN      NaN     NaN       NaN   \n",
      "2020-12-06          NaN      NaN      NaN      NaN     NaN       NaN   \n",
      "...                 ...      ...      ...      ...     ...       ...   \n",
      "2022-03-25          NaN      NaN      NaN      NaN  1007.0     727.0   \n",
      "2022-03-26          NaN      NaN      NaN      NaN     NaN       NaN   \n",
      "2022-03-27          NaN      NaN      NaN      NaN     NaN       NaN   \n",
      "2022-03-28          NaN      NaN      NaN      NaN     NaN       NaN   \n",
      "2022-03-29          NaN      NaN      NaN      NaN     NaN       NaN   \n",
      "\n",
      "country     Antigua and Barbuda  Argentina  Armenia  Aruba  ...  Uruguay   \n",
      "date                                                        ...            \n",
      "2020-12-02                  NaN        NaN      NaN    NaN  ...      NaN  \\\n",
      "2020-12-03                  NaN        NaN      NaN    NaN  ...      NaN   \n",
      "2020-12-04                  NaN        NaN      NaN    NaN  ...      NaN   \n",
      "2020-12-05                  NaN        NaN      NaN    NaN  ...      NaN   \n",
      "2020-12-06                  NaN        NaN      NaN    NaN  ...      NaN   \n",
      "...                         ...        ...      ...    ...  ...      ...   \n",
      "2022-03-25                  NaN     1712.0      NaN  653.0  ...   3425.0   \n",
      "2022-03-26                  NaN     1653.0      NaN  625.0  ...   3418.0   \n",
      "2022-03-27                  NaN     1620.0      NaN  672.0  ...   3417.0   \n",
      "2022-03-28                  NaN     1521.0      NaN  709.0  ...   2990.0   \n",
      "2022-03-29                  NaN     1200.0      NaN  718.0  ...   2897.0   \n",
      "\n",
      "country     Uzbekistan  Vanuatu  Venezuela  Vietnam  Wales  Wallis and Futuna   \n",
      "date                                                                            \n",
      "2020-12-02         NaN      NaN        NaN      NaN    NaN                NaN  \\\n",
      "2020-12-03         NaN      NaN        NaN      NaN    NaN                NaN   \n",
      "2020-12-04         NaN      NaN        NaN      NaN    NaN                NaN   \n",
      "2020-12-05         NaN      NaN        NaN      NaN    NaN                NaN   \n",
      "2020-12-06         NaN      NaN        NaN      NaN    NaN                NaN   \n",
      "...                ...      ...        ...      ...    ...                ...   \n",
      "2022-03-25         NaN      NaN        0.0      NaN  526.0             1172.0   \n",
      "2022-03-26         NaN      NaN        NaN      NaN  479.0             1352.0   \n",
      "2022-03-27         NaN      NaN        NaN      NaN  475.0             1532.0   \n",
      "2022-03-28         NaN      NaN        NaN      NaN  508.0             1713.0   \n",
      "2022-03-29         NaN      NaN        NaN      NaN    NaN                NaN   \n",
      "\n",
      "country     Yemen  Zambia  Zimbabwe  \n",
      "date                                 \n",
      "2020-12-02    NaN     NaN       NaN  \n",
      "2020-12-03    NaN     NaN       NaN  \n",
      "2020-12-04    NaN     NaN       NaN  \n",
      "2020-12-05    NaN     NaN       NaN  \n",
      "2020-12-06    NaN     NaN       NaN  \n",
      "...           ...     ...       ...  \n",
      "2022-03-25    NaN   900.0    4610.0  \n",
      "2022-03-26    NaN   760.0    5528.0  \n",
      "2022-03-27    NaN   765.0    6005.0  \n",
      "2022-03-28    NaN   770.0    6667.0  \n",
      "2022-03-29    NaN   721.0    6874.0  \n",
      "\n",
      "[483 rows x 223 columns]\n",
      "Index(['2020-12-02', '2020-12-03', '2020-12-04', '2020-12-05', '2020-12-06',\n",
      "       '2020-12-07', '2020-12-08', '2020-12-09', '2020-12-10', '2020-12-11',\n",
      "       ...\n",
      "       '2022-03-20', '2022-03-21', '2022-03-22', '2022-03-23', '2022-03-24',\n",
      "       '2022-03-25', '2022-03-26', '2022-03-27', '2022-03-28', '2022-03-29'],\n",
      "      dtype='object', name='date', length=483)\n"
     ]
    }
   ],
   "source": [
    "daily_vaccinations = df.pivot(index='date', columns='country', values = 'daily_vaccinations_per_million' )\n",
    "# print(daily_vaccinations)\n",
    "print(daily_vaccinations)\n",
    "print(daily_vaccinations.index)"
   ]
  },
  {
   "attachments": {},
   "cell_type": "markdown",
   "metadata": {},
   "source": [
    "3. Convert the date index to datetime format."
   ]
  },
  {
   "cell_type": "code",
   "execution_count": 8,
   "metadata": {},
   "outputs": [
    {
     "name": "stdout",
     "output_type": "stream",
     "text": [
      "DatetimeIndex(['2020-12-02', '2020-12-03', '2020-12-04', '2020-12-05',\n",
      "               '2020-12-06', '2020-12-07', '2020-12-08', '2020-12-09',\n",
      "               '2020-12-10', '2020-12-11',\n",
      "               ...\n",
      "               '2022-03-20', '2022-03-21', '2022-03-22', '2022-03-23',\n",
      "               '2022-03-24', '2022-03-25', '2022-03-26', '2022-03-27',\n",
      "               '2022-03-28', '2022-03-29'],\n",
      "              dtype='datetime64[ns]', name='date', length=483, freq=None)\n"
     ]
    }
   ],
   "source": [
    "daily_vaccinations.index = pd.to_datetime(daily_vaccinations.index)\n",
    "print(daily_vaccinations.index)"
   ]
  },
  {
   "attachments": {},
   "cell_type": "markdown",
   "metadata": {},
   "source": [
    "4. Create a new column with the month of the date. You might have to do some googling about the datetime format to find out how to do this."
   ]
  },
  {
   "cell_type": "code",
   "execution_count": 10,
   "metadata": {},
   "outputs": [
    {
     "name": "stdout",
     "output_type": "stream",
     "text": [
      "country       month  Afghanistan  Albania  Algeria  Andorra  Angola  Anguilla   \n",
      "date                                                                            \n",
      "2021-01-11  January          NaN     22.0      NaN      NaN     NaN       NaN  \\\n",
      "2021-01-12  January          NaN     22.0      NaN      NaN     NaN       NaN   \n",
      "2021-01-13  January          NaN     22.0      NaN      NaN     NaN       NaN   \n",
      "2021-01-14  January          NaN     23.0      NaN      NaN     NaN       NaN   \n",
      "2021-01-15  January          NaN     22.0      NaN      NaN     NaN       NaN   \n",
      "2021-01-16  January          NaN     22.0      NaN      NaN     NaN       NaN   \n",
      "2021-01-17  January          NaN     20.0      NaN      NaN     NaN       NaN   \n",
      "2021-01-18  January          NaN     19.0      NaN      NaN     NaN       NaN   \n",
      "2021-01-19  January          NaN     18.0      NaN      NaN     NaN       NaN   \n",
      "2021-01-20  January          NaN     16.0      NaN      NaN     NaN       NaN   \n",
      "2021-01-21  January          NaN     14.0      NaN      NaN     NaN       NaN   \n",
      "2021-01-22  January          NaN     12.0      NaN      NaN     NaN       NaN   \n",
      "2021-01-23  January          NaN      9.0      NaN      NaN     NaN       NaN   \n",
      "\n",
      "country     Antigua and Barbuda  Argentina  Armenia  ...  Uruguay  Uzbekistan   \n",
      "date                                                 ...                        \n",
      "2021-01-11                  NaN      307.0      NaN  ...      NaN         NaN  \\\n",
      "2021-01-12                  NaN      335.0      NaN  ...      NaN         NaN   \n",
      "2021-01-13                  NaN      355.0      NaN  ...      NaN         NaN   \n",
      "2021-01-14                  NaN      350.0      NaN  ...      NaN         NaN   \n",
      "2021-01-15                  NaN      318.0      NaN  ...      NaN         NaN   \n",
      "2021-01-16                  NaN      304.0      NaN  ...      NaN         NaN   \n",
      "2021-01-17                  NaN      304.0      NaN  ...      NaN         NaN   \n",
      "2021-01-18                  NaN      273.0      NaN  ...      NaN         NaN   \n",
      "2021-01-19                  NaN      253.0      NaN  ...      NaN         NaN   \n",
      "2021-01-20                  NaN      262.0      NaN  ...      NaN         NaN   \n",
      "2021-01-21                  NaN      254.0      NaN  ...      NaN         NaN   \n",
      "2021-01-22                  NaN      228.0      NaN  ...      NaN         NaN   \n",
      "2021-01-23                  NaN      222.0      NaN  ...      NaN         NaN   \n",
      "\n",
      "country     Vanuatu  Venezuela  Vietnam   Wales  Wallis and Futuna  Yemen   \n",
      "date                                                                        \n",
      "2021-01-11      NaN        NaN      NaN  1646.0                NaN    NaN  \\\n",
      "2021-01-12      NaN        NaN      NaN  2423.0                NaN    NaN   \n",
      "2021-01-13      NaN        NaN      NaN  2837.0                NaN    NaN   \n",
      "2021-01-14      NaN        NaN      NaN  3185.0                NaN    NaN   \n",
      "2021-01-15      NaN        NaN      NaN  2548.0                NaN    NaN   \n",
      "2021-01-16      NaN        NaN      NaN  2123.0                NaN    NaN   \n",
      "2021-01-17      NaN        NaN      NaN  2966.0                NaN    NaN   \n",
      "2021-01-18      NaN        NaN      NaN  3193.0                NaN    NaN   \n",
      "2021-01-19      NaN        NaN      NaN  3367.0                NaN    NaN   \n",
      "2021-01-20      NaN        NaN      NaN  3503.0                NaN    NaN   \n",
      "2021-01-21      NaN        NaN      NaN  3886.0                NaN    NaN   \n",
      "2021-01-22      NaN        NaN      NaN  5161.0                NaN    NaN   \n",
      "2021-01-23      NaN        NaN      NaN  6244.0                NaN    NaN   \n",
      "\n",
      "country     Zambia  Zimbabwe  \n",
      "date                          \n",
      "2021-01-11     NaN       NaN  \n",
      "2021-01-12     NaN       NaN  \n",
      "2021-01-13     NaN       NaN  \n",
      "2021-01-14     NaN       NaN  \n",
      "2021-01-15     NaN       NaN  \n",
      "2021-01-16     NaN       NaN  \n",
      "2021-01-17     NaN       NaN  \n",
      "2021-01-18     NaN       NaN  \n",
      "2021-01-19     NaN       NaN  \n",
      "2021-01-20     NaN       NaN  \n",
      "2021-01-21     NaN       NaN  \n",
      "2021-01-22     NaN       NaN  \n",
      "2021-01-23     NaN       NaN  \n",
      "\n",
      "[13 rows x 224 columns]\n"
     ]
    }
   ],
   "source": [
    "daily_vaccinations.insert(0,'month','')\n",
    "daily_vaccinations['month'] = daily_vaccinations.index.month_name()\n",
    "print(daily_vaccinations.iloc[40:53])"
   ]
  },
  {
   "attachments": {},
   "cell_type": "markdown",
   "metadata": {},
   "source": [
    "5. Per country calculate the average daily vaccinations per million for each month. The result should be a dataframe with the country names as the index and the months as the columns. The values should be the average daily vaccinations per million. You might need to stack or pivot the table to obtain the correct format."
   ]
  },
  {
   "cell_type": "code",
   "execution_count": 11,
   "metadata": {},
   "outputs": [
    {
     "name": "stdout",
     "output_type": "stream",
     "text": [
      "month                    April       August     December     February   \n",
      "country                                                                 \n",
      "Afghanistan         183.700000   479.161290   385.741935   305.852941  \\\n",
      "Albania            3933.466667  3007.419355  2537.161290  1171.250000   \n",
      "Algeria             501.000000  1857.870968   414.419355   233.375000   \n",
      "Andorra            7494.566667  4367.354839  5460.000000  2848.053571   \n",
      "Angola              364.600000   286.548387  2040.774194  1941.035714   \n",
      "...                        ...          ...          ...          ...   \n",
      "Wales              7441.800000  2060.516129  8355.677419  4119.553571   \n",
      "Wallis and Futuna  8512.100000  1349.161290   613.580645  1262.000000   \n",
      "Yemen                      NaN     8.290323    63.000000    48.178571   \n",
      "Zambia               70.562500   297.129032   998.483871   848.785714   \n",
      "Zimbabwe            799.066667  3847.612903  1452.225806   470.473684   \n",
      "\n",
      "month                  January         July          June        March   \n",
      "country                                                                  \n",
      "Afghanistan         323.806452   273.096774    203.233333   153.886792  \\\n",
      "Albania            1357.423077  2561.225806   2095.700000   823.363636   \n",
      "Algeria             394.878788   501.000000    501.000000   410.100000   \n",
      "Andorra            7731.216216  7402.838710  13875.533333  2650.636364   \n",
      "Angola             2922.612903   166.387097    581.300000   619.854545   \n",
      "...                        ...          ...           ...          ...   \n",
      "Wales              3911.384615  4488.032258   6978.800000  4788.288136   \n",
      "Wallis and Futuna   808.387097  1104.935484   1766.733333  5894.333333   \n",
      "Yemen                84.903226    45.838710    181.400000    45.875000   \n",
      "Zambia             1183.032258   415.645161      9.433333  1033.103448   \n",
      "Zimbabwe            802.645161  2225.967742    647.633333  1053.333333   \n",
      "\n",
      "month                      May     November      October    September  \n",
      "country                                                                \n",
      "Afghanistan         231.322581   687.266667   862.516129   471.066667  \n",
      "Albania            3739.580645  2264.466667  2005.806452  3239.166667  \n",
      "Algeria             501.000000   727.466667   745.741935  2931.666667  \n",
      "Andorra            2790.709677   713.133333   945.645161  2795.633333  \n",
      "Angola              366.870968  2984.266667  2917.903226  1257.766667  \n",
      "...                        ...          ...          ...          ...  \n",
      "Wales              7108.419355  5047.933333  5148.677419   703.900000  \n",
      "Wallis and Futuna  8330.548387  1415.233333  3009.451613  2004.133333  \n",
      "Yemen               143.818182    69.400000   147.806452    81.500000  \n",
      "Zambia              214.161290   290.533333   342.741935   238.166667  \n",
      "Zimbabwe           1147.806452  1500.933333  1313.322581  2535.466667  \n",
      "\n",
      "[223 rows x 12 columns]\n"
     ]
    }
   ],
   "source": [
    "daily_average = daily_vaccinations.groupby(by='month').mean().transpose()\n",
    "print(daily_average)"
   ]
  },
  {
   "attachments": {},
   "cell_type": "markdown",
   "metadata": {},
   "source": [
    "6. Now we will try to obtain the same result, but in one go from the original DataFrame. To do this, take the original dataframe and add the month column as before. Then use Pandas pivot_table method with the correct aggregation function to obtain the same result. "
   ]
  },
  {
   "cell_type": "code",
   "execution_count": 520,
   "metadata": {},
   "outputs": [
    {
     "name": "stdout",
     "output_type": "stream",
     "text": [
      "country    Afghanistan      Albania      Algeria       Andorra       Angola   \n",
      "month                                                                         \n",
      "April       183.700000  3933.466667   501.000000   7494.566667   364.600000  \\\n",
      "August      479.161290  3007.419355  1857.870968   4367.354839   286.548387   \n",
      "December    385.741935  2537.161290   414.419355   5460.000000  2040.774194   \n",
      "February    305.852941  1171.250000   233.375000   2848.053571  1941.035714   \n",
      "January     323.806452  1357.423077   394.878788   7731.216216  2922.612903   \n",
      "July        273.096774  2561.225806   501.000000   7402.838710   166.387097   \n",
      "June        203.233333  2095.700000   501.000000  13875.533333   581.300000   \n",
      "March       153.886792   823.363636   410.100000   2650.636364   619.854545   \n",
      "May         231.322581  3739.580645   501.000000   2790.709677   366.870968   \n",
      "November    687.266667  2264.466667   727.466667    713.133333  2984.266667   \n",
      "October     862.516129  2005.806452   745.741935    945.645161  2917.903226   \n",
      "September   471.066667  3239.166667  2931.666667   2795.633333  1257.766667   \n",
      "\n",
      "country        Anguilla  Antigua and Barbuda    Argentina      Armenia   \n",
      "month                                                                    \n",
      "April       5789.366667          1204.666667  2931.133333    88.000000  \\\n",
      "August       693.129032          1710.096774  7778.741935  1181.612903   \n",
      "December    2350.096774          1057.000000  5377.636364  4547.709677   \n",
      "February    6346.980769          2991.950000  2605.125000  1941.642857   \n",
      "January     1629.129032           832.774194  3917.258065  2512.096774   \n",
      "July        4602.451613          1616.419355  7875.290323   927.612903   \n",
      "June        3568.033333          5734.566667  6186.200000   492.100000   \n",
      "March       2622.142857          4328.222222  1978.583333  1325.769231   \n",
      "May        13199.580645          5412.193548  3144.354839   261.580645   \n",
      "November    1970.300000          4004.200000  6034.500000  4914.000000   \n",
      "October      147.161290          4496.516129  6066.935484  3948.387097   \n",
      "September    370.200000          6160.466667  6779.100000  1645.133333   \n",
      "\n",
      "country           Aruba  ...       Uruguay   Uzbekistan      Vanuatu   \n",
      "month                    ...                                           \n",
      "April      15359.133333  ...  11317.466667   622.033333          NaN  \\\n",
      "August      3161.290323  ...   6867.258065  6441.548387  1291.967742   \n",
      "December     602.935484  ...   1534.516129  5409.774194  2540.516129   \n",
      "February     497.964286  ...   2206.655172  2594.714286  1702.142857   \n",
      "January      816.129032  ...   4057.387097  1386.645161  2201.612903   \n",
      "July        3351.161290  ...   8682.935484  3232.161290  1594.193548   \n",
      "June        4021.000000  ...  10218.733333  1872.633333   993.310345   \n",
      "March       1139.064516  ...   4617.533333  2895.846154          NaN   \n",
      "May        11738.645161  ...   9420.580645  1177.193548          NaN   \n",
      "November     727.000000  ...   1508.833333  7223.733333  3568.766667   \n",
      "October     1034.290323  ...   3733.354839  5334.193548  3681.741935   \n",
      "September   2599.633333  ...   6902.533333  6009.700000  2912.133333   \n",
      "\n",
      "country      Venezuela       Vietnam        Wales  Wallis and Futuna   \n",
      "month                                                                  \n",
      "April       275.066667    102.733333  7441.800000        8512.100000  \\\n",
      "August     5641.645161   4622.677419  2060.516129        1349.161290   \n",
      "December   6041.903226   9669.741935  8355.677419         613.580645   \n",
      "February   2164.692308   4687.821429  4119.553571        1262.000000   \n",
      "January    4498.870968  10482.516129  3911.384615         808.387097   \n",
      "July       2938.161290    647.741935  4488.032258        1104.935484   \n",
      "June       1399.100000    781.766667  6978.800000        1766.733333   \n",
      "March        22.392857   1891.956522  4788.288136        5894.333333   \n",
      "May         230.419355    235.000000  7108.419355        8330.548387   \n",
      "November   5705.800000  13722.133333  5047.933333        1415.233333   \n",
      "October    6337.193548  12644.290323  5148.677419        3009.451613   \n",
      "September  7185.200000   7065.033333   703.900000        2004.133333   \n",
      "\n",
      "country         Yemen       Zambia     Zimbabwe  \n",
      "month                                            \n",
      "April             NaN    70.562500   799.066667  \n",
      "August       8.290323   297.129032  3847.612903  \n",
      "December    63.000000   998.483871  1452.225806  \n",
      "February    48.178571   848.785714   470.473684  \n",
      "January     84.903226  1183.032258   802.645161  \n",
      "July        45.838710   415.645161  2225.967742  \n",
      "June       181.400000     9.433333   647.633333  \n",
      "March       45.875000  1033.103448  1053.333333  \n",
      "May        143.818182   214.161290  1147.806452  \n",
      "November    69.400000   290.533333  1500.933333  \n",
      "October    147.806452   342.741935  1313.322581  \n",
      "September   81.500000   238.166667  2535.466667  \n",
      "\n",
      "[12 rows x 223 columns]\n"
     ]
    }
   ],
   "source": [
    "df.insert(0,'month',pd.to_datetime(df['date']).dt.month_name())\n",
    "daily_average = df.pivot_table( index='month', \n",
    "                                columns='country', \n",
    "                                values = 'daily_vaccinations_per_million',\n",
    "                                aggfunc = np.mean\n",
    "                )\n",
    "print(daily_average)"
   ]
  },
  {
   "attachments": {},
   "cell_type": "markdown",
   "metadata": {},
   "source": []
  },
  {
   "attachments": {},
   "cell_type": "markdown",
   "metadata": {},
   "source": [
    "7. Now take the dataframe you obtained in exercise 4. Rerun some cells if you need or copy paste some code. We want to get back the original format with a ranged index (0, 1, 2, ...) and a column with country names, a column with the date and a column with the month. Use a combination of stacking, unstacking and reseting the index to obtain this result. "
   ]
  },
  {
   "cell_type": "code",
   "execution_count": 521,
   "metadata": {},
   "outputs": [
    {
     "name": "stdout",
     "output_type": "stream",
     "text": [
      "                    country       date     month  vaccinations\n",
      "0                    Norway 2020-12-03  December           0.0\n",
      "1                    Norway 2020-12-04  December           0.0\n",
      "2                    Latvia 2020-12-05  December           0.0\n",
      "3                    Norway 2020-12-05  December           0.0\n",
      "4                    Latvia 2020-12-06  December           0.0\n",
      "...                     ...        ...       ...           ...\n",
      "86208                Turkey 2022-03-29     March         538.0\n",
      "86209  United Arab Emirates 2022-03-29     March         845.0\n",
      "86210               Uruguay 2022-03-29     March        2897.0\n",
      "86211                Zambia 2022-03-29     March         721.0\n",
      "86212              Zimbabwe 2022-03-29     March        6874.0\n",
      "\n",
      "[86213 rows x 4 columns]\n"
     ]
    }
   ],
   "source": [
    "df2 = daily_vaccinations.reset_index(inplace=True)\n",
    "df2 = pd.DataFrame(daily_vaccinations.set_index(['date','month']).stack())\n",
    "df2.reset_index(inplace=True)\n",
    "df2.columns = ['date','month', 'country','vaccinations']\n",
    "df2 = df2[['country','date','month','vaccinations']]\n",
    "print(df2)"
   ]
  },
  {
   "attachments": {},
   "cell_type": "markdown",
   "metadata": {},
   "source": [
    "8. Obtain the same result as in exercise 7, but now use the melt method to obtain the result."
   ]
  },
  {
   "cell_type": "code",
   "execution_count": 528,
   "metadata": {},
   "outputs": [
    {
     "name": "stdout",
     "output_type": "stream",
     "text": [
      "            country       date     month  vaccinations\n",
      "83      Afghanistan 2021-02-23  February          34.0\n",
      "84      Afghanistan 2021-02-24  February          34.0\n",
      "85      Afghanistan 2021-02-25  February          34.0\n",
      "86      Afghanistan 2021-02-26  February          34.0\n",
      "87      Afghanistan 2021-02-27  February          34.0\n",
      "...             ...        ...       ...           ...\n",
      "107704     Zimbabwe 2022-03-25     March        4610.0\n",
      "107705     Zimbabwe 2022-03-26     March        5528.0\n",
      "107706     Zimbabwe 2022-03-27     March        6005.0\n",
      "107707     Zimbabwe 2022-03-28     March        6667.0\n",
      "107708     Zimbabwe 2022-03-29     March        6874.0\n",
      "\n",
      "[86213 rows x 4 columns]\n"
     ]
    }
   ],
   "source": [
    "df3 = pd.melt(daily_vaccinations, id_vars=['date','month'], value_name='vaccinations')\n",
    "df3 = df3[['country','date','month','vaccinations']].dropna()\n",
    "print(df3)"
   ]
  }
 ],
 "metadata": {
  "kernelspec": {
   "display_name": "Python 3",
   "language": "python",
   "name": "python3"
  },
  "language_info": {
   "codemirror_mode": {
    "name": "ipython",
    "version": 3
   },
   "file_extension": ".py",
   "mimetype": "text/x-python",
   "name": "python",
   "nbconvert_exporter": "python",
   "pygments_lexer": "ipython3",
   "version": "3.11.3"
  },
  "orig_nbformat": 4,
  "vscode": {
   "interpreter": {
    "hash": "ca3ed784184f1b3bb7c3539bfb45e71710cd27667424f92c2d5bb4df9c107c23"
   }
  }
 },
 "nbformat": 4,
 "nbformat_minor": 2
}
